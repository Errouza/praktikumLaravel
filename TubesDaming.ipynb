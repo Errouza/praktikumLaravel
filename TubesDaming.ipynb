{
  "nbformat": 4,
  "nbformat_minor": 0,
  "metadata": {
    "colab": {
      "provenance": [],
      "authorship_tag": "ABX9TyNaeKE4eCk04EOBZYN+LjCq",
      "include_colab_link": true
    },
    "kernelspec": {
      "name": "python3",
      "display_name": "Python 3"
    },
    "language_info": {
      "name": "python"
    }
  },
  "cells": [
    {
      "cell_type": "markdown",
      "metadata": {
        "id": "view-in-github",
        "colab_type": "text"
      },
      "source": [
        "<a href=\"https://colab.research.google.com/github/Errouza/praktikumLaravel/blob/main/TubesDaming.ipynb\" target=\"_parent\"><img src=\"https://colab.research.google.com/assets/colab-badge.svg\" alt=\"Open In Colab\"/></a>"
      ]
    },
    {
      "cell_type": "markdown",
      "source": [
        "**Importing**"
      ],
      "metadata": {
        "id": "d9R0Xf8GpAge"
      }
    },
    {
      "cell_type": "code",
      "execution_count": 11,
      "metadata": {
        "id": "Wq_qQ9eNhxu2"
      },
      "outputs": [],
      "source": [
        "import pandas as pd\n",
        "import numpy as np\n",
        "import matplotlib.pyplot as plt\n",
        "import seaborn as sns\n",
        "\n",
        "from sklearn.cluster import KMeans\n",
        "from sklearn.preprocessing import StandardScaler, LabelEncoder, MinMaxScaler\n",
        "from sklearn.model_selection import train_test_split\n",
        "from sklearn.linear_model import LinearRegression\n",
        "from sklearn.metrics import mean_squared_error, classification_report\n",
        "from sklearn.tree import DecisionTreeClassifier"
      ]
    },
    {
      "cell_type": "markdown",
      "source": [
        "**READ DATA**"
      ],
      "metadata": {
        "id": "x6IjSjhopGy7"
      }
    },
    {
      "cell_type": "code",
      "source": [
        "file_path = '/content/covid_19_indonesia_time_series_all.csv'\n",
        "\n",
        "df_num = pd.read_csv(file_path)\n",
        "\n",
        "df_num.head()"
      ],
      "metadata": {
        "colab": {
          "base_uri": "https://localhost:8080/",
          "height": 340
        },
        "id": "Bt121QHBikvm",
        "outputId": "572b64cd-aa37-444f-b585-7ec82de307b4"
      },
      "execution_count": 2,
      "outputs": [
        {
          "output_type": "execute_result",
          "data": {
            "text/plain": [
              "       Date Location ISO Code     Location  New Cases  New Deaths  \\\n",
              "0  3/1/2020             ID-JK  DKI Jakarta          2           0   \n",
              "1  3/2/2020             ID-JK  DKI Jakarta          2           0   \n",
              "2  3/2/2020               IDN    Indonesia          2           0   \n",
              "3  3/2/2020             ID-RI         Riau          1           0   \n",
              "4  3/3/2020             ID-JK  DKI Jakarta          2           0   \n",
              "\n",
              "   New Recovered  New Active Cases  Total Cases  Total Deaths  \\\n",
              "0              0                 2           39            20   \n",
              "1              0                 2           41            20   \n",
              "2              0                 2            2             0   \n",
              "3              0                 1            1             0   \n",
              "4              0                 2           43            20   \n",
              "\n",
              "   Total Recovered  ...  Latitude New Cases per Million  \\\n",
              "0               75  ... -6.204699                  0.18   \n",
              "1               75  ... -6.204699                  0.18   \n",
              "2                0  ... -0.789275                  0.01   \n",
              "3                1  ...  0.511648                  0.16   \n",
              "4               75  ... -6.204699                  0.18   \n",
              "\n",
              "   Total Cases per Million New Deaths per Million Total Deaths per Million  \\\n",
              "0                     3.60                    0.0                     1.84   \n",
              "1                     3.78                    0.0                     1.84   \n",
              "2                     0.01                    0.0                     0.00   \n",
              "3                     0.16                    0.0                     0.00   \n",
              "4                     3.96                    0.0                     1.84   \n",
              "\n",
              "  Total Deaths per 100rb Case Fatality Rate Case Recovered Rate  \\\n",
              "0                   0.18             51.28%             192.31%   \n",
              "1                   0.18             48.78%             182.93%   \n",
              "2                   0.00              0.00%               0.00%   \n",
              "3                   0.00              0.00%             100.00%   \n",
              "4                   0.18             46.51%             174.42%   \n",
              "\n",
              "  Growth Factor of New Cases  Growth Factor of New Deaths  \n",
              "0                        NaN                          NaN  \n",
              "1                        1.0                          1.0  \n",
              "2                        NaN                          NaN  \n",
              "3                        NaN                          NaN  \n",
              "4                        1.0                          1.0  \n",
              "\n",
              "[5 rows x 38 columns]"
            ],
            "text/html": [
              "\n",
              "  <div id=\"df-91e405fd-0ea5-48d0-8186-41ebb40922d6\" class=\"colab-df-container\">\n",
              "    <div>\n",
              "<style scoped>\n",
              "    .dataframe tbody tr th:only-of-type {\n",
              "        vertical-align: middle;\n",
              "    }\n",
              "\n",
              "    .dataframe tbody tr th {\n",
              "        vertical-align: top;\n",
              "    }\n",
              "\n",
              "    .dataframe thead th {\n",
              "        text-align: right;\n",
              "    }\n",
              "</style>\n",
              "<table border=\"1\" class=\"dataframe\">\n",
              "  <thead>\n",
              "    <tr style=\"text-align: right;\">\n",
              "      <th></th>\n",
              "      <th>Date</th>\n",
              "      <th>Location ISO Code</th>\n",
              "      <th>Location</th>\n",
              "      <th>New Cases</th>\n",
              "      <th>New Deaths</th>\n",
              "      <th>New Recovered</th>\n",
              "      <th>New Active Cases</th>\n",
              "      <th>Total Cases</th>\n",
              "      <th>Total Deaths</th>\n",
              "      <th>Total Recovered</th>\n",
              "      <th>...</th>\n",
              "      <th>Latitude</th>\n",
              "      <th>New Cases per Million</th>\n",
              "      <th>Total Cases per Million</th>\n",
              "      <th>New Deaths per Million</th>\n",
              "      <th>Total Deaths per Million</th>\n",
              "      <th>Total Deaths per 100rb</th>\n",
              "      <th>Case Fatality Rate</th>\n",
              "      <th>Case Recovered Rate</th>\n",
              "      <th>Growth Factor of New Cases</th>\n",
              "      <th>Growth Factor of New Deaths</th>\n",
              "    </tr>\n",
              "  </thead>\n",
              "  <tbody>\n",
              "    <tr>\n",
              "      <th>0</th>\n",
              "      <td>3/1/2020</td>\n",
              "      <td>ID-JK</td>\n",
              "      <td>DKI Jakarta</td>\n",
              "      <td>2</td>\n",
              "      <td>0</td>\n",
              "      <td>0</td>\n",
              "      <td>2</td>\n",
              "      <td>39</td>\n",
              "      <td>20</td>\n",
              "      <td>75</td>\n",
              "      <td>...</td>\n",
              "      <td>-6.204699</td>\n",
              "      <td>0.18</td>\n",
              "      <td>3.60</td>\n",
              "      <td>0.0</td>\n",
              "      <td>1.84</td>\n",
              "      <td>0.18</td>\n",
              "      <td>51.28%</td>\n",
              "      <td>192.31%</td>\n",
              "      <td>NaN</td>\n",
              "      <td>NaN</td>\n",
              "    </tr>\n",
              "    <tr>\n",
              "      <th>1</th>\n",
              "      <td>3/2/2020</td>\n",
              "      <td>ID-JK</td>\n",
              "      <td>DKI Jakarta</td>\n",
              "      <td>2</td>\n",
              "      <td>0</td>\n",
              "      <td>0</td>\n",
              "      <td>2</td>\n",
              "      <td>41</td>\n",
              "      <td>20</td>\n",
              "      <td>75</td>\n",
              "      <td>...</td>\n",
              "      <td>-6.204699</td>\n",
              "      <td>0.18</td>\n",
              "      <td>3.78</td>\n",
              "      <td>0.0</td>\n",
              "      <td>1.84</td>\n",
              "      <td>0.18</td>\n",
              "      <td>48.78%</td>\n",
              "      <td>182.93%</td>\n",
              "      <td>1.0</td>\n",
              "      <td>1.0</td>\n",
              "    </tr>\n",
              "    <tr>\n",
              "      <th>2</th>\n",
              "      <td>3/2/2020</td>\n",
              "      <td>IDN</td>\n",
              "      <td>Indonesia</td>\n",
              "      <td>2</td>\n",
              "      <td>0</td>\n",
              "      <td>0</td>\n",
              "      <td>2</td>\n",
              "      <td>2</td>\n",
              "      <td>0</td>\n",
              "      <td>0</td>\n",
              "      <td>...</td>\n",
              "      <td>-0.789275</td>\n",
              "      <td>0.01</td>\n",
              "      <td>0.01</td>\n",
              "      <td>0.0</td>\n",
              "      <td>0.00</td>\n",
              "      <td>0.00</td>\n",
              "      <td>0.00%</td>\n",
              "      <td>0.00%</td>\n",
              "      <td>NaN</td>\n",
              "      <td>NaN</td>\n",
              "    </tr>\n",
              "    <tr>\n",
              "      <th>3</th>\n",
              "      <td>3/2/2020</td>\n",
              "      <td>ID-RI</td>\n",
              "      <td>Riau</td>\n",
              "      <td>1</td>\n",
              "      <td>0</td>\n",
              "      <td>0</td>\n",
              "      <td>1</td>\n",
              "      <td>1</td>\n",
              "      <td>0</td>\n",
              "      <td>1</td>\n",
              "      <td>...</td>\n",
              "      <td>0.511648</td>\n",
              "      <td>0.16</td>\n",
              "      <td>0.16</td>\n",
              "      <td>0.0</td>\n",
              "      <td>0.00</td>\n",
              "      <td>0.00</td>\n",
              "      <td>0.00%</td>\n",
              "      <td>100.00%</td>\n",
              "      <td>NaN</td>\n",
              "      <td>NaN</td>\n",
              "    </tr>\n",
              "    <tr>\n",
              "      <th>4</th>\n",
              "      <td>3/3/2020</td>\n",
              "      <td>ID-JK</td>\n",
              "      <td>DKI Jakarta</td>\n",
              "      <td>2</td>\n",
              "      <td>0</td>\n",
              "      <td>0</td>\n",
              "      <td>2</td>\n",
              "      <td>43</td>\n",
              "      <td>20</td>\n",
              "      <td>75</td>\n",
              "      <td>...</td>\n",
              "      <td>-6.204699</td>\n",
              "      <td>0.18</td>\n",
              "      <td>3.96</td>\n",
              "      <td>0.0</td>\n",
              "      <td>1.84</td>\n",
              "      <td>0.18</td>\n",
              "      <td>46.51%</td>\n",
              "      <td>174.42%</td>\n",
              "      <td>1.0</td>\n",
              "      <td>1.0</td>\n",
              "    </tr>\n",
              "  </tbody>\n",
              "</table>\n",
              "<p>5 rows × 38 columns</p>\n",
              "</div>\n",
              "    <div class=\"colab-df-buttons\">\n",
              "\n",
              "  <div class=\"colab-df-container\">\n",
              "    <button class=\"colab-df-convert\" onclick=\"convertToInteractive('df-91e405fd-0ea5-48d0-8186-41ebb40922d6')\"\n",
              "            title=\"Convert this dataframe to an interactive table.\"\n",
              "            style=\"display:none;\">\n",
              "\n",
              "  <svg xmlns=\"http://www.w3.org/2000/svg\" height=\"24px\" viewBox=\"0 -960 960 960\">\n",
              "    <path d=\"M120-120v-720h720v720H120Zm60-500h600v-160H180v160Zm220 220h160v-160H400v160Zm0 220h160v-160H400v160ZM180-400h160v-160H180v160Zm440 0h160v-160H620v160ZM180-180h160v-160H180v160Zm440 0h160v-160H620v160Z\"/>\n",
              "  </svg>\n",
              "    </button>\n",
              "\n",
              "  <style>\n",
              "    .colab-df-container {\n",
              "      display:flex;\n",
              "      gap: 12px;\n",
              "    }\n",
              "\n",
              "    .colab-df-convert {\n",
              "      background-color: #E8F0FE;\n",
              "      border: none;\n",
              "      border-radius: 50%;\n",
              "      cursor: pointer;\n",
              "      display: none;\n",
              "      fill: #1967D2;\n",
              "      height: 32px;\n",
              "      padding: 0 0 0 0;\n",
              "      width: 32px;\n",
              "    }\n",
              "\n",
              "    .colab-df-convert:hover {\n",
              "      background-color: #E2EBFA;\n",
              "      box-shadow: 0px 1px 2px rgba(60, 64, 67, 0.3), 0px 1px 3px 1px rgba(60, 64, 67, 0.15);\n",
              "      fill: #174EA6;\n",
              "    }\n",
              "\n",
              "    .colab-df-buttons div {\n",
              "      margin-bottom: 4px;\n",
              "    }\n",
              "\n",
              "    [theme=dark] .colab-df-convert {\n",
              "      background-color: #3B4455;\n",
              "      fill: #D2E3FC;\n",
              "    }\n",
              "\n",
              "    [theme=dark] .colab-df-convert:hover {\n",
              "      background-color: #434B5C;\n",
              "      box-shadow: 0px 1px 3px 1px rgba(0, 0, 0, 0.15);\n",
              "      filter: drop-shadow(0px 1px 2px rgba(0, 0, 0, 0.3));\n",
              "      fill: #FFFFFF;\n",
              "    }\n",
              "  </style>\n",
              "\n",
              "    <script>\n",
              "      const buttonEl =\n",
              "        document.querySelector('#df-91e405fd-0ea5-48d0-8186-41ebb40922d6 button.colab-df-convert');\n",
              "      buttonEl.style.display =\n",
              "        google.colab.kernel.accessAllowed ? 'block' : 'none';\n",
              "\n",
              "      async function convertToInteractive(key) {\n",
              "        const element = document.querySelector('#df-91e405fd-0ea5-48d0-8186-41ebb40922d6');\n",
              "        const dataTable =\n",
              "          await google.colab.kernel.invokeFunction('convertToInteractive',\n",
              "                                                    [key], {});\n",
              "        if (!dataTable) return;\n",
              "\n",
              "        const docLinkHtml = 'Like what you see? Visit the ' +\n",
              "          '<a target=\"_blank\" href=https://colab.research.google.com/notebooks/data_table.ipynb>data table notebook</a>'\n",
              "          + ' to learn more about interactive tables.';\n",
              "        element.innerHTML = '';\n",
              "        dataTable['output_type'] = 'display_data';\n",
              "        await google.colab.output.renderOutput(dataTable, element);\n",
              "        const docLink = document.createElement('div');\n",
              "        docLink.innerHTML = docLinkHtml;\n",
              "        element.appendChild(docLink);\n",
              "      }\n",
              "    </script>\n",
              "  </div>\n",
              "\n",
              "\n",
              "<div id=\"df-9d13a74b-2a5e-41f7-b4e6-80415e0e2db6\">\n",
              "  <button class=\"colab-df-quickchart\" onclick=\"quickchart('df-9d13a74b-2a5e-41f7-b4e6-80415e0e2db6')\"\n",
              "            title=\"Suggest charts\"\n",
              "            style=\"display:none;\">\n",
              "\n",
              "<svg xmlns=\"http://www.w3.org/2000/svg\" height=\"24px\"viewBox=\"0 0 24 24\"\n",
              "     width=\"24px\">\n",
              "    <g>\n",
              "        <path d=\"M19 3H5c-1.1 0-2 .9-2 2v14c0 1.1.9 2 2 2h14c1.1 0 2-.9 2-2V5c0-1.1-.9-2-2-2zM9 17H7v-7h2v7zm4 0h-2V7h2v10zm4 0h-2v-4h2v4z\"/>\n",
              "    </g>\n",
              "</svg>\n",
              "  </button>\n",
              "\n",
              "<style>\n",
              "  .colab-df-quickchart {\n",
              "      --bg-color: #E8F0FE;\n",
              "      --fill-color: #1967D2;\n",
              "      --hover-bg-color: #E2EBFA;\n",
              "      --hover-fill-color: #174EA6;\n",
              "      --disabled-fill-color: #AAA;\n",
              "      --disabled-bg-color: #DDD;\n",
              "  }\n",
              "\n",
              "  [theme=dark] .colab-df-quickchart {\n",
              "      --bg-color: #3B4455;\n",
              "      --fill-color: #D2E3FC;\n",
              "      --hover-bg-color: #434B5C;\n",
              "      --hover-fill-color: #FFFFFF;\n",
              "      --disabled-bg-color: #3B4455;\n",
              "      --disabled-fill-color: #666;\n",
              "  }\n",
              "\n",
              "  .colab-df-quickchart {\n",
              "    background-color: var(--bg-color);\n",
              "    border: none;\n",
              "    border-radius: 50%;\n",
              "    cursor: pointer;\n",
              "    display: none;\n",
              "    fill: var(--fill-color);\n",
              "    height: 32px;\n",
              "    padding: 0;\n",
              "    width: 32px;\n",
              "  }\n",
              "\n",
              "  .colab-df-quickchart:hover {\n",
              "    background-color: var(--hover-bg-color);\n",
              "    box-shadow: 0 1px 2px rgba(60, 64, 67, 0.3), 0 1px 3px 1px rgba(60, 64, 67, 0.15);\n",
              "    fill: var(--button-hover-fill-color);\n",
              "  }\n",
              "\n",
              "  .colab-df-quickchart-complete:disabled,\n",
              "  .colab-df-quickchart-complete:disabled:hover {\n",
              "    background-color: var(--disabled-bg-color);\n",
              "    fill: var(--disabled-fill-color);\n",
              "    box-shadow: none;\n",
              "  }\n",
              "\n",
              "  .colab-df-spinner {\n",
              "    border: 2px solid var(--fill-color);\n",
              "    border-color: transparent;\n",
              "    border-bottom-color: var(--fill-color);\n",
              "    animation:\n",
              "      spin 1s steps(1) infinite;\n",
              "  }\n",
              "\n",
              "  @keyframes spin {\n",
              "    0% {\n",
              "      border-color: transparent;\n",
              "      border-bottom-color: var(--fill-color);\n",
              "      border-left-color: var(--fill-color);\n",
              "    }\n",
              "    20% {\n",
              "      border-color: transparent;\n",
              "      border-left-color: var(--fill-color);\n",
              "      border-top-color: var(--fill-color);\n",
              "    }\n",
              "    30% {\n",
              "      border-color: transparent;\n",
              "      border-left-color: var(--fill-color);\n",
              "      border-top-color: var(--fill-color);\n",
              "      border-right-color: var(--fill-color);\n",
              "    }\n",
              "    40% {\n",
              "      border-color: transparent;\n",
              "      border-right-color: var(--fill-color);\n",
              "      border-top-color: var(--fill-color);\n",
              "    }\n",
              "    60% {\n",
              "      border-color: transparent;\n",
              "      border-right-color: var(--fill-color);\n",
              "    }\n",
              "    80% {\n",
              "      border-color: transparent;\n",
              "      border-right-color: var(--fill-color);\n",
              "      border-bottom-color: var(--fill-color);\n",
              "    }\n",
              "    90% {\n",
              "      border-color: transparent;\n",
              "      border-bottom-color: var(--fill-color);\n",
              "    }\n",
              "  }\n",
              "</style>\n",
              "\n",
              "  <script>\n",
              "    async function quickchart(key) {\n",
              "      const quickchartButtonEl =\n",
              "        document.querySelector('#' + key + ' button');\n",
              "      quickchartButtonEl.disabled = true;  // To prevent multiple clicks.\n",
              "      quickchartButtonEl.classList.add('colab-df-spinner');\n",
              "      try {\n",
              "        const charts = await google.colab.kernel.invokeFunction(\n",
              "            'suggestCharts', [key], {});\n",
              "      } catch (error) {\n",
              "        console.error('Error during call to suggestCharts:', error);\n",
              "      }\n",
              "      quickchartButtonEl.classList.remove('colab-df-spinner');\n",
              "      quickchartButtonEl.classList.add('colab-df-quickchart-complete');\n",
              "    }\n",
              "    (() => {\n",
              "      let quickchartButtonEl =\n",
              "        document.querySelector('#df-9d13a74b-2a5e-41f7-b4e6-80415e0e2db6 button');\n",
              "      quickchartButtonEl.style.display =\n",
              "        google.colab.kernel.accessAllowed ? 'block' : 'none';\n",
              "    })();\n",
              "  </script>\n",
              "</div>\n",
              "    </div>\n",
              "  </div>\n"
            ],
            "application/vnd.google.colaboratory.intrinsic+json": {
              "type": "dataframe",
              "variable_name": "df_num"
            }
          },
          "metadata": {},
          "execution_count": 2
        }
      ]
    },
    {
      "cell_type": "code",
      "source": [
        "print(df_num.columns)"
      ],
      "metadata": {
        "colab": {
          "base_uri": "https://localhost:8080/"
        },
        "id": "IRdRv7SBi4S8",
        "outputId": "08e34200-57b3-4383-c0c7-3fa7d34ff18a"
      },
      "execution_count": 3,
      "outputs": [
        {
          "output_type": "stream",
          "name": "stdout",
          "text": [
            "Index(['Date', 'Location ISO Code', 'Location', 'New Cases', 'New Deaths',\n",
            "       'New Recovered', 'New Active Cases', 'Total Cases', 'Total Deaths',\n",
            "       'Total Recovered', 'Total Active Cases', 'Location Level',\n",
            "       'City or Regency', 'Province', 'Country', 'Continent', 'Island',\n",
            "       'Time Zone', 'Special Status', 'Total Regencies', 'Total Cities',\n",
            "       'Total Districts', 'Total Urban Villages', 'Total Rural Villages',\n",
            "       'Area (km2)', 'Population', 'Population Density', 'Longitude',\n",
            "       'Latitude', 'New Cases per Million', 'Total Cases per Million',\n",
            "       'New Deaths per Million', 'Total Deaths per Million',\n",
            "       'Total Deaths per 100rb', 'Case Fatality Rate', 'Case Recovered Rate',\n",
            "       'Growth Factor of New Cases', 'Growth Factor of New Deaths'],\n",
            "      dtype='object')\n"
          ]
        }
      ]
    },
    {
      "cell_type": "code",
      "source": [
        "df_num = df_num.dropna(subset=[\"New Cases\", \"Population\", \"Population Density\", \"Total Cases\"])"
      ],
      "metadata": {
        "id": "GeacVCmJkulZ"
      },
      "execution_count": 4,
      "outputs": []
    },
    {
      "cell_type": "code",
      "source": [
        "df_num[\"Date\"] = pd.to_datetime(df_num[\"Date\"])"
      ],
      "metadata": {
        "id": "lL0bL0cImzcL"
      },
      "execution_count": 5,
      "outputs": []
    },
    {
      "cell_type": "markdown",
      "source": [
        "**Preprocessing**"
      ],
      "metadata": {
        "id": "m6yAk4FIq6YG"
      }
    },
    {
      "cell_type": "markdown",
      "source": [
        "data cleaning"
      ],
      "metadata": {
        "id": "SZVELJ8cwFuV"
      }
    },
    {
      "cell_type": "code",
      "source": [
        "columns_to_drop = [\n",
        "    \"City or Regency\", \"Special Status\", \"Total Regencies\", \"Total Cities\",\n",
        "    \"Total Urban Villages\", \"Total Rural Villages\", \"Area (km2)\"\n",
        "]\n",
        "cleaned_data = df_num.drop(columns=columns_to_drop)\n",
        "\n",
        "cleaned_data['Province'] = cleaned_data['Province'].fillna('Unknown')\n",
        "cleaned_data['Island'] = cleaned_data['Island'].fillna('Unknown')\n",
        "cleaned_data['Time Zone'] = cleaned_data['Time Zone'].fillna('Unknown')"
      ],
      "metadata": {
        "id": "9aoZOATGrBqi"
      },
      "execution_count": 7,
      "outputs": []
    },
    {
      "cell_type": "markdown",
      "source": [
        "Data Tranformasi"
      ],
      "metadata": {
        "id": "2DV-X9vpwUY6"
      }
    },
    {
      "cell_type": "code",
      "source": [
        "cleaned_data['Date'] = pd.to_datetime(cleaned_data['Date'], format='%m/%d/%Y')\n",
        "\n",
        "cleaned_data['Case Fatality Rate'] = (\n",
        "    cleaned_data['Case Fatality Rate'].str.rstrip('%').astype(float) / 100\n",
        ")\n",
        "cleaned_data['Case Recovered Rate'] = (\n",
        "    cleaned_data['Case Recovered Rate'].str.rstrip('%').astype(float) / 100\n",
        ")"
      ],
      "metadata": {
        "id": "sZL-TB1-wW2a"
      },
      "execution_count": 8,
      "outputs": []
    },
    {
      "cell_type": "markdown",
      "source": [
        "mengurangin data"
      ],
      "metadata": {
        "id": "6DzMOPanwjng"
      }
    },
    {
      "cell_type": "code",
      "source": [
        "columns_to_keep = [\n",
        "    \"Date\", \"Location\", \"Province\", \"New Cases\", \"New Deaths\", \"Total Cases\",\n",
        "    \"Total Deaths\", \"Population\", \"Case Fatality Rate\", \"Case Recovered Rate\"\n",
        "]\n",
        "reduced_data = cleaned_data[columns_to_keep]\n",
        "reduced_data.head(), reduced_data.info()"
      ],
      "metadata": {
        "colab": {
          "base_uri": "https://localhost:8080/"
        },
        "id": "z5tKCPYywo42",
        "outputId": "dc0873a3-184e-48db-c6a7-7ddeac429a7c"
      },
      "execution_count": 9,
      "outputs": [
        {
          "output_type": "stream",
          "name": "stdout",
          "text": [
            "<class 'pandas.core.frame.DataFrame'>\n",
            "RangeIndex: 31822 entries, 0 to 31821\n",
            "Data columns (total 10 columns):\n",
            " #   Column               Non-Null Count  Dtype         \n",
            "---  ------               --------------  -----         \n",
            " 0   Date                 31822 non-null  datetime64[ns]\n",
            " 1   Location             31822 non-null  object        \n",
            " 2   Province             31822 non-null  object        \n",
            " 3   New Cases            31822 non-null  int64         \n",
            " 4   New Deaths           31822 non-null  int64         \n",
            " 5   Total Cases          31822 non-null  int64         \n",
            " 6   Total Deaths         31822 non-null  int64         \n",
            " 7   Population           31822 non-null  int64         \n",
            " 8   Case Fatality Rate   31822 non-null  float64       \n",
            " 9   Case Recovered Rate  31822 non-null  float64       \n",
            "dtypes: datetime64[ns](1), float64(2), int64(5), object(2)\n",
            "memory usage: 2.4+ MB\n"
          ]
        },
        {
          "output_type": "execute_result",
          "data": {
            "text/plain": [
              "(        Date     Location     Province  New Cases  New Deaths  Total Cases  \\\n",
              " 0 2020-03-01  DKI Jakarta  DKI Jakarta          2           0           39   \n",
              " 1 2020-03-02  DKI Jakarta  DKI Jakarta          2           0           41   \n",
              " 2 2020-03-02    Indonesia      Unknown          2           0            2   \n",
              " 3 2020-03-02         Riau         Riau          1           0            1   \n",
              " 4 2020-03-03  DKI Jakarta  DKI Jakarta          2           0           43   \n",
              " \n",
              "    Total Deaths  Population  Case Fatality Rate  Case Recovered Rate  \n",
              " 0            20    10846145              0.5128               1.9231  \n",
              " 1            20    10846145              0.4878               1.8293  \n",
              " 2             0   265185520              0.0000               0.0000  \n",
              " 3             0     6074100              0.0000               1.0000  \n",
              " 4            20    10846145              0.4651               1.7442  ,\n",
              " None)"
            ]
          },
          "metadata": {},
          "execution_count": 9
        }
      ]
    },
    {
      "cell_type": "markdown",
      "source": [
        "**PREPARATION**"
      ],
      "metadata": {
        "id": "O1I-lJ4Pw2r-"
      }
    },
    {
      "cell_type": "code",
      "source": [
        "cleaned_data = reduced_data.drop_duplicates()\n",
        "missing_values_summary = cleaned_data.isnull().sum()"
      ],
      "metadata": {
        "id": "3XsylpX9w2aL"
      },
      "execution_count": 10,
      "outputs": []
    },
    {
      "cell_type": "markdown",
      "source": [
        "Data transformation"
      ],
      "metadata": {
        "id": "9cvVhyhKxBRC"
      }
    },
    {
      "cell_type": "code",
      "source": [
        "scaler = MinMaxScaler()\n",
        "numerical_columns = [\"New Cases\", \"New Deaths\", \"Total Cases\", \"Total Deaths\", \"Population\"]\n",
        "cleaned_data[numerical_columns] = scaler.fit_transform(cleaned_data[numerical_columns])\n",
        "\n",
        "cleaned_data[\"Case Fatality Rate\"] = cleaned_data[\"Case Fatality Rate\"].clip(0, 1)\n",
        "cleaned_data[\"Case Recovered Rate\"] = cleaned_data[\"Case Recovered Rate\"].clip(0, 1)"
      ],
      "metadata": {
        "id": "fKYOZwEHxP5o"
      },
      "execution_count": 12,
      "outputs": []
    },
    {
      "cell_type": "markdown",
      "source": [
        "Data validation"
      ],
      "metadata": {
        "id": "RJRGbJYXxYbI"
      }
    },
    {
      "cell_type": "code",
      "source": [
        "inconsistencies = cleaned_data[cleaned_data[\"Total Cases\"] < cleaned_data[\"New Cases\"]]\n",
        "\n",
        "cleaned_data.head(), missing_values_summary, inconsistencies"
      ],
      "metadata": {
        "colab": {
          "base_uri": "https://localhost:8080/"
        },
        "id": "dvMzVTs_xiSs",
        "outputId": "5038253b-c2d1-402d-98c2-09f72ab76501"
      },
      "execution_count": 13,
      "outputs": [
        {
          "output_type": "execute_result",
          "data": {
            "text/plain": [
              "(        Date     Location     Province  New Cases  New Deaths   Total Cases  \\\n",
              " 0 2020-03-01  DKI Jakarta  DKI Jakarta   0.000031         0.0  5.932825e-06   \n",
              " 1 2020-03-02  DKI Jakarta  DKI Jakarta   0.000031         0.0  6.245079e-06   \n",
              " 2 2020-03-02    Indonesia      Unknown   0.000031         0.0  1.561270e-07   \n",
              " 3 2020-03-02         Riau         Riau   0.000015         0.0  0.000000e+00   \n",
              " 4 2020-03-03  DKI Jakarta  DKI Jakarta   0.000031         0.0  6.557333e-06   \n",
              " \n",
              "    Total Deaths  Population  Case Fatality Rate  Case Recovered Rate  \n",
              " 0      0.000127    0.038549              0.5128                  1.0  \n",
              " 1      0.000127    0.038549              0.4878                  1.0  \n",
              " 2      0.000000    1.000000              0.0000                  0.0  \n",
              " 3      0.000000    0.020510              0.0000                  1.0  \n",
              " 4      0.000127    0.038549              0.4651                  1.0  ,\n",
              " Date                   0\n",
              " Location               0\n",
              " Province               0\n",
              " New Cases              0\n",
              " New Deaths             0\n",
              " Total Cases            0\n",
              " Total Deaths           0\n",
              " Population             0\n",
              " Case Fatality Rate     0\n",
              " Case Recovered Rate    0\n",
              " dtype: int64,\n",
              "             Date             Location             Province  New Cases  \\\n",
              " 0     2020-03-01          DKI Jakarta          DKI Jakarta   0.000031   \n",
              " 1     2020-03-02          DKI Jakarta          DKI Jakarta   0.000031   \n",
              " 2     2020-03-02            Indonesia              Unknown   0.000031   \n",
              " 3     2020-03-02                 Riau                 Riau   0.000015   \n",
              " 4     2020-03-03          DKI Jakarta          DKI Jakarta   0.000031   \n",
              " ...          ...                  ...                  ...        ...   \n",
              " 25130 2022-03-08       Sulawesi Barat       Sulawesi Barat   0.002503   \n",
              " 25154 2022-03-09     Kalimantan Utara     Kalimantan Utara   0.007170   \n",
              " 25161 2022-03-09  Nusa Tenggara Timur  Nusa Tenggara Timur   0.018619   \n",
              " 25189 2022-03-10     Kalimantan Utara     Kalimantan Utara   0.007293   \n",
              " 25371 2022-03-15  Nusa Tenggara Timur  Nusa Tenggara Timur   0.013752   \n",
              " \n",
              "        New Deaths   Total Cases  Total Deaths  Population  Case Fatality Rate  \\\n",
              " 0        0.000000  5.932825e-06      0.000127    0.038549              0.5128   \n",
              " 1        0.000000  6.245079e-06      0.000127    0.038549              0.4878   \n",
              " 2        0.000000  1.561270e-07      0.000000    1.000000              0.0000   \n",
              " 3        0.000000  0.000000e+00      0.000000    0.020510              0.0000   \n",
              " 4        0.000000  6.557333e-06      0.000127    0.038549              0.4651   \n",
              " ...           ...           ...           ...         ...                 ...   \n",
              " 25130    0.000483  2.296940e-03      0.002356    0.003446              0.0253   \n",
              " 25154    0.000000  6.653507e-03      0.005232    0.000000              0.0194   \n",
              " 25161    0.002417  1.304160e-02      0.008918    0.018005              0.0169   \n",
              " 25189    0.000967  6.727199e-03      0.005245    0.000000              0.0192   \n",
              " 25371    0.001450  1.369483e-02      0.009070    0.018005              0.0163   \n",
              " \n",
              "        Case Recovered Rate  \n",
              " 0                   1.0000  \n",
              " 1                   1.0000  \n",
              " 2                   0.0000  \n",
              " 3                   1.0000  \n",
              " 4                   1.0000  \n",
              " ...                    ...  \n",
              " 25130               0.8881  \n",
              " 25154               0.8668  \n",
              " 25161               0.8582  \n",
              " 25189               0.8668  \n",
              " 25371               0.8762  \n",
              " \n",
              " [7866 rows x 10 columns])"
            ]
          },
          "metadata": {},
          "execution_count": 13
        }
      ]
    },
    {
      "cell_type": "markdown",
      "source": [
        "**CLUSTERING**"
      ],
      "metadata": {
        "id": "27jtyMaYp6hh"
      }
    },
    {
      "cell_type": "code",
      "source": [
        "clustering_data = df_num[[\"Population Density\", \"New Cases\", \"Total Cases\"]]"
      ],
      "metadata": {
        "id": "NTRga1_CnAWH"
      },
      "execution_count": 14,
      "outputs": []
    },
    {
      "cell_type": "code",
      "source": [
        "scaler = StandardScaler()\n",
        "clustering_data_scaled = scaler.fit_transform(clustering_data)"
      ],
      "metadata": {
        "id": "uveZhbRNnMAw"
      },
      "execution_count": 15,
      "outputs": []
    },
    {
      "cell_type": "code",
      "source": [
        "inertia = []\n",
        "range_n_clusters = range(1, 11)\n",
        "for k in range_n_clusters:\n",
        "    kmeans = KMeans(n_clusters=k, random_state=42)\n",
        "    kmeans.fit(clustering_data_scaled)\n",
        "    inertia.append(kmeans.inertia_)\n",
        "\n",
        "plt.figure(figsize=(8, 6))\n",
        "plt.plot(range_n_clusters, inertia, marker='o')\n",
        "plt.title(\"Elbow Method for Optimal Clusters\")\n",
        "plt.xlabel(\"Number of Clusters\")\n",
        "plt.ylabel(\"Inertia\")\n",
        "plt.grid(True)\n",
        "plt.show()"
      ],
      "metadata": {
        "colab": {
          "base_uri": "https://localhost:8080/",
          "height": 564
        },
        "id": "mKB4yTcJnRro",
        "outputId": "f9a006c9-b06c-4007-8a67-4d6501429214"
      },
      "execution_count": 16,
      "outputs": [
        {
          "output_type": "display_data",
          "data": {
            "text/plain": [
              "<Figure size 800x600 with 1 Axes>"
            ],
            "image/png": "[encoded data removed]"
          },
          "metadata": {}
        }
      ]
    },
    {
      "cell_type": "code",
      "source": [
        "optimal_clusters = 4  # Adjust based on Elbow Curve\n",
        "kmeans = KMeans(n_clusters=optimal_clusters, random_state=42)\n",
        "df_num[\"Cluster\"] = kmeans.fit_predict(clustering_data_scaled)\n",
        "\n",
        "plt.figure(figsize=(8, 6))\n",
        "plt.scatter(df_num[\"Population Density\"], df_num[\"New Cases\"], c=df_num[\"Cluster\"], cmap=\"viridis\", s=50)\n",
        "plt.title(\"Clusters by Population Density and New Cases\")\n",
        "plt.xlabel(\"Population Density\")\n",
        "plt.ylabel(\"New Cases\")\n",
        "plt.colorbar(label=\"Cluster\")\n",
        "plt.show()"
      ],
      "metadata": {
        "colab": {
          "base_uri": "https://localhost:8080/",
          "height": 564
        },
        "id": "HLI2mzZDnWEu",
        "outputId": "06221f3c-3a2a-410e-ca46-415b59d7234b"
      },
      "execution_count": 17,
      "outputs": [
        {
          "output_type": "display_data",
          "data": {
            "text/plain": [
              "<Figure size 800x600 with 2 Axes>"
            ],
            "image/png": "[encoded data removed]"
          },
          "metadata": {}
        }
      ]
    },
    {
      "cell_type": "markdown",
      "source": [
        "**REGRESSION**"
      ],
      "metadata": {
        "id": "VlCkVAwfqA-S"
      }
    },
    {
      "cell_type": "code",
      "source": [
        "regression_data = df_num[[\"Date\", \"New Cases\", \"Total Cases\"]]\n",
        "regression_data[\"Days Since Start\"] = (regression_data[\"Date\"] - regression_data[\"Date\"].min()).dt.days\n",
        "\n",
        "X = regression_data[[\"Days Since Start\"]]\n",
        "y = regression_data[\"New Cases\"]"
      ],
      "metadata": {
        "colab": {
          "base_uri": "https://localhost:8080/"
        },
        "id": "h8ikHwdKniFz",
        "outputId": "1c76a1f1-1fa4-4881-e691-912ad6b1254d"
      },
      "execution_count": 18,
      "outputs": [
        {
          "output_type": "stream",
          "name": "stderr",
          "text": [
            "<ipython-input-18-53d699def607>:2: SettingWithCopyWarning: \n",
            "A value is trying to be set on a copy of a slice from a DataFrame.\n",
            "Try using .loc[row_indexer,col_indexer] = value instead\n",
            "\n",
            "See the caveats in the documentation: https://pandas.pydata.org/pandas-docs/stable/user_guide/indexing.html#returning-a-view-versus-a-copy\n",
            "  regression_data[\"Days Since Start\"] = (regression_data[\"Date\"] - regression_data[\"Date\"].min()).dt.days\n"
          ]
        }
      ]
    },
    {
      "cell_type": "code",
      "source": [
        "X_train, X_test, y_train, y_test = train_test_split(X, y, test_size=0.2, random_state=42)"
      ],
      "metadata": {
        "id": "f9y2CygfntcL"
      },
      "execution_count": 19,
      "outputs": []
    },
    {
      "cell_type": "markdown",
      "source": [
        "Linear regression"
      ],
      "metadata": {
        "id": "MNwxv6Q8qO4I"
      }
    },
    {
      "cell_type": "code",
      "source": [
        "regressor = LinearRegression()\n",
        "regressor.fit(X_train, y_train)\n",
        "\n",
        "y_pred = regressor.predict(X_test)\n",
        "mse = mean_squared_error(y_test, y_pred)\n",
        "print(f\"Mean Squared Error (Regression): {mse}\")\n",
        "\n",
        "plt.figure(figsize=(8, 6))\n",
        "plt.scatter(X_test, y_test, color='blue', label='Actual')\n",
        "plt.plot(X_test, y_pred, color='red', label='Predicted')\n",
        "plt.title(\"Regression: Predicted vs Actual New Cases\")\n",
        "plt.xlabel(\"Days Since Start\")\n",
        "plt.ylabel(\"New Cases\")\n",
        "plt.legend()\n",
        "plt.show()"
      ],
      "metadata": {
        "colab": {
          "base_uri": "https://localhost:8080/",
          "height": 581
        },
        "id": "SGvDFfkkoEIB",
        "outputId": "0f1b023c-44bf-4ab8-fe90-e9984a8e0e4d"
      },
      "execution_count": 20,
      "outputs": [
        {
          "output_type": "stream",
          "name": "stdout",
          "text": [
            "Mean Squared Error (Regression): 6758826.855964853\n"
          ]
        },
        {
          "output_type": "display_data",
          "data": {
            "text/plain": [
              "<Figure size 800x600 with 1 Axes>"
            ],
            "image/png": "[encoded data removed]"
          },
          "metadata": {}
        }
      ]
    },
    {
      "cell_type": "markdown",
      "source": [
        "**CLASSIFICATION**"
      ],
      "metadata": {
        "id": "-drcLjnuqJML"
      }
    },
    {
      "cell_type": "code",
      "source": [
        "def risk_level(row):\n",
        "    if row[\"Total Cases\"] > 10000:\n",
        "        return \"High\"\n",
        "    elif row[\"Total Cases\"] > 1000:\n",
        "        return \"Medium\"\n",
        "    else:\n",
        "        return \"Low\"\n",
        "\n",
        "df_num[\"Risk Level\"] = df_num.apply(risk_level, axis=1)\n",
        "\n",
        "features = [\"Population\", \"Population Density\", \"Total Cases\", \"Cluster\"]\n",
        "X_classification = df_num[features]\n",
        "y_classification = LabelEncoder().fit_transform(df_num[\"Risk Level\"])"
      ],
      "metadata": {
        "id": "CHR2kOihoLNQ"
      },
      "execution_count": 21,
      "outputs": []
    },
    {
      "cell_type": "code",
      "source": [
        "X_train, X_test, y_train, y_test = train_test_split(X_classification, y_classification, test_size=0.2, random_state=42)"
      ],
      "metadata": {
        "id": "6UDJTX6Fohyr"
      },
      "execution_count": 22,
      "outputs": []
    },
    {
      "cell_type": "code",
      "source": [
        "classifier = DecisionTreeClassifier(random_state=42)\n",
        "classifier.fit(X_train, y_train)\n",
        "\n",
        "y_pred = classifier.predict(X_test)\n",
        "print(\"Classification Report:\")\n",
        "print(classification_report(y_test, y_pred))\n",
        "\n",
        "feature_importance = pd.Series(classifier.feature_importances_, index=features)\n",
        "feature_importance.sort_values().plot(kind=\"barh\", title=\"Feature Importance\", color=\"skyblue\")\n",
        "plt.show()"
      ],
      "metadata": {
        "colab": {
          "base_uri": "https://localhost:8080/",
          "height": 643
        },
        "id": "tSwumoJ-oq2u",
        "outputId": "899d83f5-db67-4ff2-cf28-d1bb1e6e668b"
      },
      "execution_count": 23,
      "outputs": [
        {
          "output_type": "stream",
          "name": "stdout",
          "text": [
            "Classification Report:\n",
            "              precision    recall  f1-score   support\n",
            "\n",
            "           0       1.00      1.00      1.00      4276\n",
            "           1       1.00      1.00      1.00       896\n",
            "           2       1.00      1.00      1.00      1193\n",
            "\n",
            "    accuracy                           1.00      6365\n",
            "   macro avg       1.00      1.00      1.00      6365\n",
            "weighted avg       1.00      1.00      1.00      6365\n",
            "\n"
          ]
        },
        {
          "output_type": "display_data",
          "data": {
            "text/plain": [
              "<Figure size 640x480 with 1 Axes>"
            ],
            "image/png": "[encoded data removed]"
          },
          "metadata": {}
        }
      ]
    }
  ]
}